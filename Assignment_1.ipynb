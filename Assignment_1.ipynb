{
  "nbformat": 4,
  "nbformat_minor": 0,
  "metadata": {
    "colab": {
      "name": "Assignment 1.ipynb",
      "provenance": [],
      "collapsed_sections": []
    },
    "kernelspec": {
      "name": "python3",
      "display_name": "Python 3"
    },
    "language_info": {
      "name": "python"
    }
  },
  "cells": [
    {
      "cell_type": "code",
      "metadata": {
        "colab": {
          "base_uri": "https://localhost:8080/"
        },
        "id": "WU04tX-1y-oD",
        "outputId": "e33092b7-15cd-407a-d5a1-829d5b702ae8"
      },
      "source": [
        "!pip install PyMuPDF"
      ],
      "execution_count": 2,
      "outputs": [
        {
          "output_type": "stream",
          "name": "stdout",
          "text": [
            "Collecting PyMuPDF\n",
            "  Downloading PyMuPDF-1.18.19-cp37-cp37m-manylinux_2_12_x86_64.manylinux2010_x86_64.whl (6.4 MB)\n",
            "\u001b[K     |████████████████████████████████| 6.4 MB 6.6 MB/s \n",
            "\u001b[?25hInstalling collected packages: PyMuPDF\n",
            "Successfully installed PyMuPDF-1.18.19\n"
          ]
        }
      ]
    },
    {
      "cell_type": "code",
      "metadata": {
        "id": "D2cJbQiUzXqM"
      },
      "source": [
        "import fitz\n",
        "import pandas as pd\n",
        "filename = 'results'"
      ],
      "execution_count": 3,
      "outputs": []
    },
    {
      "cell_type": "code",
      "metadata": {
        "colab": {
          "base_uri": "https://localhost:8080/"
        },
        "id": "UqDmC_eIzajq",
        "outputId": "a6538f96-869d-4f92-ed48-b5f86262b8e7"
      },
      "source": [
        "pdf = input(\"Enter Path of PDF File\")"
      ],
      "execution_count": 4,
      "outputs": [
        {
          "name": "stdout",
          "output_type": "stream",
          "text": [
            "Enter Path of PDF File/content/keppel-corporation-limited-annual-report-2018.pdf\n"
          ]
        }
      ]
    },
    {
      "cell_type": "code",
      "metadata": {
        "colab": {
          "base_uri": "https://localhost:8080/"
        },
        "id": "utpdcN7CF3tt",
        "outputId": "8d9649fc-486a-4be7-bd5c-ae2bde86b258"
      },
      "source": [
        "pageNumber = int(input(\"Enter Page you want to read\"))"
      ],
      "execution_count": 19,
      "outputs": [
        {
          "name": "stdout",
          "output_type": "stream",
          "text": [
            "Enter Page you want to read12\n"
          ]
        }
      ]
    },
    {
      "cell_type": "code",
      "metadata": {
        "id": "rozwIT1GzlNz"
      },
      "source": [
        "doc = fitz.open(pdf)\n",
        "page = doc.loadPage(pageNumber-1)"
      ],
      "execution_count": 20,
      "outputs": []
    },
    {
      "cell_type": "code",
      "metadata": {
        "colab": {
          "base_uri": "https://localhost:8080/"
        },
        "id": "ZjKdmNJXzqKJ",
        "outputId": "c704fb5e-d467-4489-fcae-d4dc2b79277b"
      },
      "source": [
        "text = page.getText(\"blocks\")\n",
        "print(text)"
      ],
      "execution_count": 21,
      "outputs": [
        {
          "output_type": "stream",
          "name": "stdout",
          "text": [
            "[(51.02360153198242, 108.5626220703125, 210.73294067382812, 147.9376220703125, 'While pursuing new markets and opportunities, \\nwe are growing our stable and recurring income \\nfrom the quality operations and maintenance \\nservices provided by Infrastructure Services. \\n', 0, 0), (51.02360153198242, 158.5626220703125, 210.7785186767578, 287.9376220703125, 'Keppel Electric has been the largest electricity \\nretailer in Singapore in terms of market share in \\nthe commercial and industrial sector. Following \\nthe launch of the Open Electricity Market (OEM) \\nin Singapore, Keppel Electric is also making \\nheadway into the housing electricity market. \\nStarting from 1 November 2018, the OEM is \\nbeing progressively extended to all consumers \\nacross Singapore by zones. The response to \\nKeppel Electric’s retail offerings for households \\nhas been encouraging, with preliminary \\nresults showing that it is among the retailers \\nwith the largest market shares in the OEM. \\n', 1, 0), (51.02360153198242, 298.5626220703125, 208.03292846679688, 377.9376525878906, 'Keppel T&T is scaling up its logistics and \\ndata centre solutions to tap opportunities \\ncreated by the fast-growing digital economy. \\nWith the burgeoning growth of cloud service \\nproviders as well as increasing storage \\nand\\xa0processing requirements, our data \\ncentre business is well positioned to tap \\ngrowth opportunities. \\n', 2, 0), (51.02360153198242, 388.5626525878906, 210.76092529296875, 477.9376525878906, 'In 2018, we added four new data centre projects \\nacross Asia and Europe to our portfolio. This \\nexpands our portfolio to 22 data centres with \\na total value of about $2.7 billion. To further \\ngrow its capabilities, Keppel T&T is also \\nexploring innovative solutions such as high-rise \\ngreen data centres and floating water-cooled \\ndata centre parks, which tap Keppel O&M’s \\nexpertise in floating infrastructure.\\n', 3, 0), (51.02360153198242, 488.5626525878906, 210.61614990234375, 717.9376220703125, 'Expanding into new markets, we have, \\nthrough the Alpha Data Centre Fund \\n(Alpha\\xa0DC Fund) and Keppel Data Centres \\nHolding (KDCH), signed conditional agreements \\nwith the Salim Group to jointly develop and \\noperate a high-availability data centre in Bogor, \\nabout 35 kilometres from Jakarta. Alpha DC \\nFund and KDCH have also inked agreements \\nwith a leading technology company to develop \\nand operate their first greenfield data centre in \\nJohor, Malaysia. Meanwhile, Keppel Logistics \\nfocused on streamlining processes and \\nresources for better cost management while \\nseeking new opportunities in urban logistics. \\nWe continued to drive the growth of UrbanFox, \\nour omnichannel logistics and channel \\nmanagement solutions brand. UrbanFox’s \\ncustomer base has grown significantly, with \\ndeliveries doubling over the course of 2018. \\nUrbanFox also plans to launch its integrated \\nchannel management in other countries in \\nSoutheast Asia, leveraging Keppel’s presence \\nin those markets.\\n', 4, 0), (51.02360153198242, 728.5626220703125, 162.44891357421875, 757.9376220703125, 'Investments \\n2018 was an active year for our \\nInvestments\\xa0Division.\\n', 5, 0), (51.02360153198242, 768.5626220703125, 210.44891357421875, 787.9376220703125, 'Keppel Capital announced acquisitions worth \\nover\\xa0$2 billion and explored new platforms \\n', 6, 0), (222.99209594726562, 108.5626220703125, 370.29736328125, 147.9376220703125, 'for long-term growth, including expanding \\ninto new markets and asset classes, \\nfocusing on areas which harness the \\ncapabilities of the Keppel Group. \\n', 7, 0), (222.99209594726562, 158.5626220703125, 380.9487609863281, 257.9376220703125, 'With a view to tapping opportunities in \\nthe\\xa0fast-growing senior living market, \\nKeppel\\xa0Capital entered into a conditional \\nequity purchase agreement to acquire a \\n50%\\xa0stake in leading US senior living operator, \\nWatermark Retirement Communities. It has \\nalso signed Memoranda of Understanding \\n(MOUs) to establish new private funds to \\ninvest in education real estate, and retail \\nproperties in Australia. \\n', 8, 0), (222.99209594726562, 268.5626220703125, 378.833251953125, 377.9376525878906, 'Our listed REITs and Trust have also \\nbeen\\xa0expanding their portfolios. In Australia, \\nKeppel DC REIT is enlarging its data centre \\nfootprint with a new shell and core data \\ncentre, to be built in the Macquarie Business \\nPark precinct in Sydney. In the US, Keppel-\\nKBS US REIT continued to capture strong \\nleasing demand from the technology and \\nprofessional services sectors in Seattle. \\nKeppel Infrastructure Trust has completed \\nits acquisition of a 100% interest in Ixom, \\n', 9, 0), (483.4757080078125, 673.455078125, 486.9180908203125, 680.486328125, '1\\n', 10, 0), (480.94488525390625, 682.45751953125, 546.5474853515625, 717.48876953125, 'Keppel Land expanded \\nits presence in China \\nin 2018 entering a new \\nmarket with\\xa0a residential \\nland\\xa0plot\\xa0in Nanjing. \\n', 11, 0), (483.4757080078125, 729.455078125, 486.9180908203125, 736.486328125, '2\\n', 12, 0), (480.94488525390625, 738.45751953125, 552.0693359375, 787.48876953125, 'Keppel O&M’s proprietary \\nRigCare Solution, \\nimplemented for the \\nfirst\\xa0time on Cantarell IV, \\nwill enhance the efficiency, \\nsafety and operability of \\nthe jackup rig.\\n', 13, 0), (394.9606018066406, 108.578369140625, 541.7298583984375, 157.953369140625, 'which is among the leading industrial \\ninfrastructure businesses in Australia and \\nNew Zealand, supplying and distributing \\nwater treatment chemicals, as well as \\nindustrial and specialty chemicals. \\n', 14, 0), (394.9606018066406, 168.578369140625, 544.1658935546875, 307.953369140625, '2018 also marked the 10th anniversary \\nof\\xa0the\\xa0Sino-Singapore Tianjin Eco-City, \\na\\xa0flagship government-to-government \\nproject between China and Singapore. \\nWith\\xa0the Eco-City’s growing maturity, \\nwe\\xa0are\\xa0seeing increasing demand for \\nhomes\\xa0and land in the city. Our\\xa0joint venture, \\nthe Sino-Singapore Tianjin Eco-City \\nInvestment and Development Co., Ltd., \\nsold\\xa0three residential land plots for \\nRMB\\xa03.4 billion in 2018, one of which \\nwas\\xa0acquired by Keppel Land to tap the \\nhealthy demand for its green homes in \\nthe\\xa0Eco-City.\\n', 15, 0), (394.9606018066406, 318.578369140625, 545.7937622070312, 377.9533386230469, 'Leveraging the Group’s strong track record \\nin\\xa0master development, Keppel Urban \\nSolutions (KUS) continues to make good \\nprogress in\\xa0its pilot project, the 64-hectare \\nSaigon Sports\\xa0City in HCMC, which is \\nbeing\\xa0developed in collaboration with \\n', 16, 0), (221.98822021484375, 408.9868469238281, 467.8028259277344, 786.9682006835938, '<image: DeviceCMYK, width: 513, height: 788, bpc: 8>', 17, 1), (225.5229034423828, 778.3682250976562, 228.9652862548828, 785.3994750976562, '2\\n', 18, 0), (375.4512023925781, 809.1192626953125, 552.7529907226562, 818.4942626953125, 'Keppel Corporation Limited Report to Shareholders 2018   \\n   13\\n', 19, 0)]\n"
          ]
        }
      ]
    },
    {
      "cell_type": "code",
      "metadata": {
        "id": "XwC7FNQv0A8K"
      },
      "source": [
        "for i in range(len(text)):\n",
        "    if text[i] == ' ':\n",
        "        text[i] = '\\n'"
      ],
      "execution_count": 22,
      "outputs": []
    },
    {
      "cell_type": "code",
      "metadata": {
        "colab": {
          "base_uri": "https://localhost:8080/"
        },
        "id": "7irbBSuS2PGN",
        "outputId": "c290f6da-d887-4d10-c96f-042c6440cfcc"
      },
      "source": [
        "print(text)"
      ],
      "execution_count": 23,
      "outputs": [
        {
          "output_type": "stream",
          "name": "stdout",
          "text": [
            "[(51.02360153198242, 108.5626220703125, 210.73294067382812, 147.9376220703125, 'While pursuing new markets and opportunities, \\nwe are growing our stable and recurring income \\nfrom the quality operations and maintenance \\nservices provided by Infrastructure Services. \\n', 0, 0), (51.02360153198242, 158.5626220703125, 210.7785186767578, 287.9376220703125, 'Keppel Electric has been the largest electricity \\nretailer in Singapore in terms of market share in \\nthe commercial and industrial sector. Following \\nthe launch of the Open Electricity Market (OEM) \\nin Singapore, Keppel Electric is also making \\nheadway into the housing electricity market. \\nStarting from 1 November 2018, the OEM is \\nbeing progressively extended to all consumers \\nacross Singapore by zones. The response to \\nKeppel Electric’s retail offerings for households \\nhas been encouraging, with preliminary \\nresults showing that it is among the retailers \\nwith the largest market shares in the OEM. \\n', 1, 0), (51.02360153198242, 298.5626220703125, 208.03292846679688, 377.9376525878906, 'Keppel T&T is scaling up its logistics and \\ndata centre solutions to tap opportunities \\ncreated by the fast-growing digital economy. \\nWith the burgeoning growth of cloud service \\nproviders as well as increasing storage \\nand\\xa0processing requirements, our data \\ncentre business is well positioned to tap \\ngrowth opportunities. \\n', 2, 0), (51.02360153198242, 388.5626525878906, 210.76092529296875, 477.9376525878906, 'In 2018, we added four new data centre projects \\nacross Asia and Europe to our portfolio. This \\nexpands our portfolio to 22 data centres with \\na total value of about $2.7 billion. To further \\ngrow its capabilities, Keppel T&T is also \\nexploring innovative solutions such as high-rise \\ngreen data centres and floating water-cooled \\ndata centre parks, which tap Keppel O&M’s \\nexpertise in floating infrastructure.\\n', 3, 0), (51.02360153198242, 488.5626525878906, 210.61614990234375, 717.9376220703125, 'Expanding into new markets, we have, \\nthrough the Alpha Data Centre Fund \\n(Alpha\\xa0DC Fund) and Keppel Data Centres \\nHolding (KDCH), signed conditional agreements \\nwith the Salim Group to jointly develop and \\noperate a high-availability data centre in Bogor, \\nabout 35 kilometres from Jakarta. Alpha DC \\nFund and KDCH have also inked agreements \\nwith a leading technology company to develop \\nand operate their first greenfield data centre in \\nJohor, Malaysia. Meanwhile, Keppel Logistics \\nfocused on streamlining processes and \\nresources for better cost management while \\nseeking new opportunities in urban logistics. \\nWe continued to drive the growth of UrbanFox, \\nour omnichannel logistics and channel \\nmanagement solutions brand. UrbanFox’s \\ncustomer base has grown significantly, with \\ndeliveries doubling over the course of 2018. \\nUrbanFox also plans to launch its integrated \\nchannel management in other countries in \\nSoutheast Asia, leveraging Keppel’s presence \\nin those markets.\\n', 4, 0), (51.02360153198242, 728.5626220703125, 162.44891357421875, 757.9376220703125, 'Investments \\n2018 was an active year for our \\nInvestments\\xa0Division.\\n', 5, 0), (51.02360153198242, 768.5626220703125, 210.44891357421875, 787.9376220703125, 'Keppel Capital announced acquisitions worth \\nover\\xa0$2 billion and explored new platforms \\n', 6, 0), (222.99209594726562, 108.5626220703125, 370.29736328125, 147.9376220703125, 'for long-term growth, including expanding \\ninto new markets and asset classes, \\nfocusing on areas which harness the \\ncapabilities of the Keppel Group. \\n', 7, 0), (222.99209594726562, 158.5626220703125, 380.9487609863281, 257.9376220703125, 'With a view to tapping opportunities in \\nthe\\xa0fast-growing senior living market, \\nKeppel\\xa0Capital entered into a conditional \\nequity purchase agreement to acquire a \\n50%\\xa0stake in leading US senior living operator, \\nWatermark Retirement Communities. It has \\nalso signed Memoranda of Understanding \\n(MOUs) to establish new private funds to \\ninvest in education real estate, and retail \\nproperties in Australia. \\n', 8, 0), (222.99209594726562, 268.5626220703125, 378.833251953125, 377.9376525878906, 'Our listed REITs and Trust have also \\nbeen\\xa0expanding their portfolios. In Australia, \\nKeppel DC REIT is enlarging its data centre \\nfootprint with a new shell and core data \\ncentre, to be built in the Macquarie Business \\nPark precinct in Sydney. In the US, Keppel-\\nKBS US REIT continued to capture strong \\nleasing demand from the technology and \\nprofessional services sectors in Seattle. \\nKeppel Infrastructure Trust has completed \\nits acquisition of a 100% interest in Ixom, \\n', 9, 0), (483.4757080078125, 673.455078125, 486.9180908203125, 680.486328125, '1\\n', 10, 0), (480.94488525390625, 682.45751953125, 546.5474853515625, 717.48876953125, 'Keppel Land expanded \\nits presence in China \\nin 2018 entering a new \\nmarket with\\xa0a residential \\nland\\xa0plot\\xa0in Nanjing. \\n', 11, 0), (483.4757080078125, 729.455078125, 486.9180908203125, 736.486328125, '2\\n', 12, 0), (480.94488525390625, 738.45751953125, 552.0693359375, 787.48876953125, 'Keppel O&M’s proprietary \\nRigCare Solution, \\nimplemented for the \\nfirst\\xa0time on Cantarell IV, \\nwill enhance the efficiency, \\nsafety and operability of \\nthe jackup rig.\\n', 13, 0), (394.9606018066406, 108.578369140625, 541.7298583984375, 157.953369140625, 'which is among the leading industrial \\ninfrastructure businesses in Australia and \\nNew Zealand, supplying and distributing \\nwater treatment chemicals, as well as \\nindustrial and specialty chemicals. \\n', 14, 0), (394.9606018066406, 168.578369140625, 544.1658935546875, 307.953369140625, '2018 also marked the 10th anniversary \\nof\\xa0the\\xa0Sino-Singapore Tianjin Eco-City, \\na\\xa0flagship government-to-government \\nproject between China and Singapore. \\nWith\\xa0the Eco-City’s growing maturity, \\nwe\\xa0are\\xa0seeing increasing demand for \\nhomes\\xa0and land in the city. Our\\xa0joint venture, \\nthe Sino-Singapore Tianjin Eco-City \\nInvestment and Development Co., Ltd., \\nsold\\xa0three residential land plots for \\nRMB\\xa03.4 billion in 2018, one of which \\nwas\\xa0acquired by Keppel Land to tap the \\nhealthy demand for its green homes in \\nthe\\xa0Eco-City.\\n', 15, 0), (394.9606018066406, 318.578369140625, 545.7937622070312, 377.9533386230469, 'Leveraging the Group’s strong track record \\nin\\xa0master development, Keppel Urban \\nSolutions (KUS) continues to make good \\nprogress in\\xa0its pilot project, the 64-hectare \\nSaigon Sports\\xa0City in HCMC, which is \\nbeing\\xa0developed in collaboration with \\n', 16, 0), (221.98822021484375, 408.9868469238281, 467.8028259277344, 786.9682006835938, '<image: DeviceCMYK, width: 513, height: 788, bpc: 8>', 17, 1), (225.5229034423828, 778.3682250976562, 228.9652862548828, 785.3994750976562, '2\\n', 18, 0), (375.4512023925781, 809.1192626953125, 552.7529907226562, 818.4942626953125, 'Keppel Corporation Limited Report to Shareholders 2018   \\n   13\\n', 19, 0)]\n"
          ]
        }
      ]
    },
    {
      "cell_type": "code",
      "metadata": {
        "id": "sYjuEO4UByXy",
        "colab": {
          "base_uri": "https://localhost:8080/"
        },
        "outputId": "05ca39d0-36b3-4ccb-9254-626cac9f3798"
      },
      "source": [
        "textOnly = {}\n",
        "for i in range (len(text)):\n",
        "  textOnly[i] = text[i][4]\n",
        "textOnly"
      ],
      "execution_count": 24,
      "outputs": [
        {
          "output_type": "execute_result",
          "data": {
            "text/plain": [
              "{0: 'While pursuing new markets and opportunities, \\nwe are growing our stable and recurring income \\nfrom the quality operations and maintenance \\nservices provided by Infrastructure Services. \\n',\n",
              " 1: 'Keppel Electric has been the largest electricity \\nretailer in Singapore in terms of market share in \\nthe commercial and industrial sector. Following \\nthe launch of the Open Electricity Market (OEM) \\nin Singapore, Keppel Electric is also making \\nheadway into the housing electricity market. \\nStarting from 1 November 2018, the OEM is \\nbeing progressively extended to all consumers \\nacross Singapore by zones. The response to \\nKeppel Electric’s retail offerings for households \\nhas been encouraging, with preliminary \\nresults showing that it is among the retailers \\nwith the largest market shares in the OEM. \\n',\n",
              " 2: 'Keppel T&T is scaling up its logistics and \\ndata centre solutions to tap opportunities \\ncreated by the fast-growing digital economy. \\nWith the burgeoning growth of cloud service \\nproviders as well as increasing storage \\nand\\xa0processing requirements, our data \\ncentre business is well positioned to tap \\ngrowth opportunities. \\n',\n",
              " 3: 'In 2018, we added four new data centre projects \\nacross Asia and Europe to our portfolio. This \\nexpands our portfolio to 22 data centres with \\na total value of about $2.7 billion. To further \\ngrow its capabilities, Keppel T&T is also \\nexploring innovative solutions such as high-rise \\ngreen data centres and floating water-cooled \\ndata centre parks, which tap Keppel O&M’s \\nexpertise in floating infrastructure.\\n',\n",
              " 4: 'Expanding into new markets, we have, \\nthrough the Alpha Data Centre Fund \\n(Alpha\\xa0DC Fund) and Keppel Data Centres \\nHolding (KDCH), signed conditional agreements \\nwith the Salim Group to jointly develop and \\noperate a high-availability data centre in Bogor, \\nabout 35 kilometres from Jakarta. Alpha DC \\nFund and KDCH have also inked agreements \\nwith a leading technology company to develop \\nand operate their first greenfield data centre in \\nJohor, Malaysia. Meanwhile, Keppel Logistics \\nfocused on streamlining processes and \\nresources for better cost management while \\nseeking new opportunities in urban logistics. \\nWe continued to drive the growth of UrbanFox, \\nour omnichannel logistics and channel \\nmanagement solutions brand. UrbanFox’s \\ncustomer base has grown significantly, with \\ndeliveries doubling over the course of 2018. \\nUrbanFox also plans to launch its integrated \\nchannel management in other countries in \\nSoutheast Asia, leveraging Keppel’s presence \\nin those markets.\\n',\n",
              " 5: 'Investments \\n2018 was an active year for our \\nInvestments\\xa0Division.\\n',\n",
              " 6: 'Keppel Capital announced acquisitions worth \\nover\\xa0$2 billion and explored new platforms \\n',\n",
              " 7: 'for long-term growth, including expanding \\ninto new markets and asset classes, \\nfocusing on areas which harness the \\ncapabilities of the Keppel Group. \\n',\n",
              " 8: 'With a view to tapping opportunities in \\nthe\\xa0fast-growing senior living market, \\nKeppel\\xa0Capital entered into a conditional \\nequity purchase agreement to acquire a \\n50%\\xa0stake in leading US senior living operator, \\nWatermark Retirement Communities. It has \\nalso signed Memoranda of Understanding \\n(MOUs) to establish new private funds to \\ninvest in education real estate, and retail \\nproperties in Australia. \\n',\n",
              " 9: 'Our listed REITs and Trust have also \\nbeen\\xa0expanding their portfolios. In Australia, \\nKeppel DC REIT is enlarging its data centre \\nfootprint with a new shell and core data \\ncentre, to be built in the Macquarie Business \\nPark precinct in Sydney. In the US, Keppel-\\nKBS US REIT continued to capture strong \\nleasing demand from the technology and \\nprofessional services sectors in Seattle. \\nKeppel Infrastructure Trust has completed \\nits acquisition of a 100% interest in Ixom, \\n',\n",
              " 10: '1\\n',\n",
              " 11: 'Keppel Land expanded \\nits presence in China \\nin 2018 entering a new \\nmarket with\\xa0a residential \\nland\\xa0plot\\xa0in Nanjing. \\n',\n",
              " 12: '2\\n',\n",
              " 13: 'Keppel O&M’s proprietary \\nRigCare Solution, \\nimplemented for the \\nfirst\\xa0time on Cantarell IV, \\nwill enhance the efficiency, \\nsafety and operability of \\nthe jackup rig.\\n',\n",
              " 14: 'which is among the leading industrial \\ninfrastructure businesses in Australia and \\nNew Zealand, supplying and distributing \\nwater treatment chemicals, as well as \\nindustrial and specialty chemicals. \\n',\n",
              " 15: '2018 also marked the 10th anniversary \\nof\\xa0the\\xa0Sino-Singapore Tianjin Eco-City, \\na\\xa0flagship government-to-government \\nproject between China and Singapore. \\nWith\\xa0the Eco-City’s growing maturity, \\nwe\\xa0are\\xa0seeing increasing demand for \\nhomes\\xa0and land in the city. Our\\xa0joint venture, \\nthe Sino-Singapore Tianjin Eco-City \\nInvestment and Development Co., Ltd., \\nsold\\xa0three residential land plots for \\nRMB\\xa03.4 billion in 2018, one of which \\nwas\\xa0acquired by Keppel Land to tap the \\nhealthy demand for its green homes in \\nthe\\xa0Eco-City.\\n',\n",
              " 16: 'Leveraging the Group’s strong track record \\nin\\xa0master development, Keppel Urban \\nSolutions (KUS) continues to make good \\nprogress in\\xa0its pilot project, the 64-hectare \\nSaigon Sports\\xa0City in HCMC, which is \\nbeing\\xa0developed in collaboration with \\n',\n",
              " 17: '<image: DeviceCMYK, width: 513, height: 788, bpc: 8>',\n",
              " 18: '2\\n',\n",
              " 19: 'Keppel Corporation Limited Report to Shareholders 2018   \\n   13\\n'}"
            ]
          },
          "metadata": {},
          "execution_count": 24
        }
      ]
    },
    {
      "cell_type": "code",
      "metadata": {
        "id": "8pkQLowH2WlN"
      },
      "source": [
        "text_df =  pd.DataFrame(textOnly.items(), columns=['paragraph number', 'text in paragraph'])\n",
        "text_df.to_csv(str(filename)+\".csv\", index = False)"
      ],
      "execution_count": 25,
      "outputs": []
    },
    {
      "cell_type": "code",
      "metadata": {
        "id": "hPUt-AcJ2rSL"
      },
      "source": [
        "!pip freeze > requirements.txt"
      ],
      "execution_count": 26,
      "outputs": []
    },
    {
      "cell_type": "code",
      "metadata": {
        "id": "qVFF3L63XiFM"
      },
      "source": [
        ""
      ],
      "execution_count": null,
      "outputs": []
    }
  ]
}